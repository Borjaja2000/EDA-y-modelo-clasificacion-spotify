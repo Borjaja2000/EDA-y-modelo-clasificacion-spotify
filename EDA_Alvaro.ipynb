{
 "cells": [
  {
   "cell_type": "code",
   "execution_count": 2,
   "metadata": {},
   "outputs": [
    {
     "data": {
      "text/html": [
       "        <script type=\"text/javascript\">\n",
       "        window.PlotlyConfig = {MathJaxConfig: 'local'};\n",
       "        if (window.MathJax && window.MathJax.Hub && window.MathJax.Hub.Config) {window.MathJax.Hub.Config({SVG: {font: \"STIX-Web\"}});}\n",
       "        if (typeof require !== 'undefined') {\n",
       "        require.undef(\"plotly\");\n",
       "        requirejs.config({\n",
       "            paths: {\n",
       "                'plotly': ['https://cdn.plot.ly/plotly-2.32.0.min']\n",
       "            }\n",
       "        });\n",
       "        require(['plotly'], function(Plotly) {\n",
       "            window._Plotly = Plotly;\n",
       "        });\n",
       "        }\n",
       "        </script>\n",
       "        "
      ]
     },
     "metadata": {},
     "output_type": "display_data"
    },
    {
     "data": {
      "text/html": [
       "        <script type=\"text/javascript\">\n",
       "        window.PlotlyConfig = {MathJaxConfig: 'local'};\n",
       "        if (window.MathJax && window.MathJax.Hub && window.MathJax.Hub.Config) {window.MathJax.Hub.Config({SVG: {font: \"STIX-Web\"}});}\n",
       "        if (typeof require !== 'undefined') {\n",
       "        require.undef(\"plotly\");\n",
       "        requirejs.config({\n",
       "            paths: {\n",
       "                'plotly': ['https://cdn.plot.ly/plotly-2.32.0.min']\n",
       "            }\n",
       "        });\n",
       "        require(['plotly'], function(Plotly) {\n",
       "            window._Plotly = Plotly;\n",
       "        });\n",
       "        }\n",
       "        </script>\n",
       "        "
      ]
     },
     "metadata": {},
     "output_type": "display_data"
    }
   ],
   "source": [
    "import numpy as np\n",
    "import pandas as pd\n",
    "import seaborn as sns\n",
    "import matplotlib.pyplot as plt\n",
    "import plotly_express as px\n",
    "\n",
    "import os\n",
    "import json\n",
    "import warnings\n",
    "warnings.simplefilter(action='ignore', category=FutureWarning)\n",
    "\n",
    "import plotly.graph_objs as go\n",
    "import chart_studio.plotly as py\n",
    "from plotly.offline import iplot, init_notebook_mode\n",
    "import cufflinks\n",
    "cufflinks.go_offline(connected=True)\n",
    "init_notebook_mode(connected=True)"
   ]
  },
  {
   "cell_type": "code",
   "execution_count": 3,
   "metadata": {},
   "outputs": [],
   "source": [
    "df = pd.read_csv('spotify_data_cleaned.zip')"
   ]
  },
  {
   "cell_type": "code",
   "execution_count": 4,
   "metadata": {},
   "outputs": [
    {
     "data": {
      "text/html": [
       "<div>\n",
       "<style scoped>\n",
       "    .dataframe tbody tr th:only-of-type {\n",
       "        vertical-align: middle;\n",
       "    }\n",
       "\n",
       "    .dataframe tbody tr th {\n",
       "        vertical-align: top;\n",
       "    }\n",
       "\n",
       "    .dataframe thead th {\n",
       "        text-align: right;\n",
       "    }\n",
       "</style>\n",
       "<table border=\"1\" class=\"dataframe\">\n",
       "  <thead>\n",
       "    <tr style=\"text-align: right;\">\n",
       "      <th></th>\n",
       "      <th>artist_name</th>\n",
       "      <th>track_name</th>\n",
       "      <th>track_id</th>\n",
       "      <th>popularity</th>\n",
       "      <th>year</th>\n",
       "      <th>genre</th>\n",
       "      <th>danceability</th>\n",
       "      <th>energy</th>\n",
       "      <th>key</th>\n",
       "      <th>loudness</th>\n",
       "      <th>mode</th>\n",
       "      <th>speechiness</th>\n",
       "      <th>acousticness</th>\n",
       "      <th>instrumentalness</th>\n",
       "      <th>liveness</th>\n",
       "      <th>valence</th>\n",
       "      <th>tempo</th>\n",
       "      <th>duration_ms</th>\n",
       "      <th>duration_min_secs</th>\n",
       "      <th>time_signature</th>\n",
       "    </tr>\n",
       "  </thead>\n",
       "  <tbody>\n",
       "    <tr>\n",
       "      <th>0</th>\n",
       "      <td>Jason Mraz</td>\n",
       "      <td>I Won't Give Up</td>\n",
       "      <td>53QF56cjZA9RTuuMZDrSA6</td>\n",
       "      <td>68</td>\n",
       "      <td>2012</td>\n",
       "      <td>acoustic</td>\n",
       "      <td>0.483</td>\n",
       "      <td>0.303</td>\n",
       "      <td>E</td>\n",
       "      <td>-10.058</td>\n",
       "      <td>Major</td>\n",
       "      <td>0.0429</td>\n",
       "      <td>0.6940</td>\n",
       "      <td>0.000000</td>\n",
       "      <td>0.1150</td>\n",
       "      <td>0.139</td>\n",
       "      <td>133.406</td>\n",
       "      <td>240166</td>\n",
       "      <td>4:00</td>\n",
       "      <td>3.0</td>\n",
       "    </tr>\n",
       "    <tr>\n",
       "      <th>1</th>\n",
       "      <td>Jason Mraz</td>\n",
       "      <td>93 Million Miles</td>\n",
       "      <td>1s8tP3jP4GZcyHDsjvw218</td>\n",
       "      <td>50</td>\n",
       "      <td>2012</td>\n",
       "      <td>acoustic</td>\n",
       "      <td>0.572</td>\n",
       "      <td>0.454</td>\n",
       "      <td>D#</td>\n",
       "      <td>-10.286</td>\n",
       "      <td>Major</td>\n",
       "      <td>0.0258</td>\n",
       "      <td>0.4770</td>\n",
       "      <td>0.000014</td>\n",
       "      <td>0.0974</td>\n",
       "      <td>0.515</td>\n",
       "      <td>140.182</td>\n",
       "      <td>216387</td>\n",
       "      <td>3:36</td>\n",
       "      <td>4.0</td>\n",
       "    </tr>\n",
       "    <tr>\n",
       "      <th>2</th>\n",
       "      <td>Joshua Hyslop</td>\n",
       "      <td>Do Not Let Me Go</td>\n",
       "      <td>7BRCa8MPiyuvr2VU3O9W0F</td>\n",
       "      <td>57</td>\n",
       "      <td>2012</td>\n",
       "      <td>acoustic</td>\n",
       "      <td>0.409</td>\n",
       "      <td>0.234</td>\n",
       "      <td>D#</td>\n",
       "      <td>-13.711</td>\n",
       "      <td>Major</td>\n",
       "      <td>0.0323</td>\n",
       "      <td>0.3380</td>\n",
       "      <td>0.000050</td>\n",
       "      <td>0.0895</td>\n",
       "      <td>0.145</td>\n",
       "      <td>139.832</td>\n",
       "      <td>158960</td>\n",
       "      <td>2:38</td>\n",
       "      <td>4.0</td>\n",
       "    </tr>\n",
       "    <tr>\n",
       "      <th>3</th>\n",
       "      <td>Boyce Avenue</td>\n",
       "      <td>Fast Car</td>\n",
       "      <td>63wsZUhUZLlh1OsyrZq7sz</td>\n",
       "      <td>58</td>\n",
       "      <td>2012</td>\n",
       "      <td>acoustic</td>\n",
       "      <td>0.392</td>\n",
       "      <td>0.251</td>\n",
       "      <td>A#</td>\n",
       "      <td>-9.845</td>\n",
       "      <td>Major</td>\n",
       "      <td>0.0363</td>\n",
       "      <td>0.8070</td>\n",
       "      <td>0.000000</td>\n",
       "      <td>0.0797</td>\n",
       "      <td>0.508</td>\n",
       "      <td>204.961</td>\n",
       "      <td>304293</td>\n",
       "      <td>5:04</td>\n",
       "      <td>4.0</td>\n",
       "    </tr>\n",
       "    <tr>\n",
       "      <th>4</th>\n",
       "      <td>Andrew Belle</td>\n",
       "      <td>Sky's Still Blue</td>\n",
       "      <td>6nXIYClvJAfi6ujLiKqEq8</td>\n",
       "      <td>54</td>\n",
       "      <td>2012</td>\n",
       "      <td>acoustic</td>\n",
       "      <td>0.430</td>\n",
       "      <td>0.791</td>\n",
       "      <td>F#</td>\n",
       "      <td>-5.419</td>\n",
       "      <td>Minor</td>\n",
       "      <td>0.0302</td>\n",
       "      <td>0.0726</td>\n",
       "      <td>0.019300</td>\n",
       "      <td>0.1100</td>\n",
       "      <td>0.217</td>\n",
       "      <td>171.864</td>\n",
       "      <td>244320</td>\n",
       "      <td>4:04</td>\n",
       "      <td>4.0</td>\n",
       "    </tr>\n",
       "  </tbody>\n",
       "</table>\n",
       "</div>"
      ],
      "text/plain": [
       "     artist_name        track_name                track_id  popularity  year  \\\n",
       "0     Jason Mraz   I Won't Give Up  53QF56cjZA9RTuuMZDrSA6          68  2012   \n",
       "1     Jason Mraz  93 Million Miles  1s8tP3jP4GZcyHDsjvw218          50  2012   \n",
       "2  Joshua Hyslop  Do Not Let Me Go  7BRCa8MPiyuvr2VU3O9W0F          57  2012   \n",
       "3   Boyce Avenue          Fast Car  63wsZUhUZLlh1OsyrZq7sz          58  2012   \n",
       "4   Andrew Belle  Sky's Still Blue  6nXIYClvJAfi6ujLiKqEq8          54  2012   \n",
       "\n",
       "      genre  danceability  energy key  loudness   mode  speechiness  \\\n",
       "0  acoustic         0.483   0.303   E   -10.058  Major       0.0429   \n",
       "1  acoustic         0.572   0.454  D#   -10.286  Major       0.0258   \n",
       "2  acoustic         0.409   0.234  D#   -13.711  Major       0.0323   \n",
       "3  acoustic         0.392   0.251  A#    -9.845  Major       0.0363   \n",
       "4  acoustic         0.430   0.791  F#    -5.419  Minor       0.0302   \n",
       "\n",
       "   acousticness  instrumentalness  liveness  valence    tempo  duration_ms  \\\n",
       "0        0.6940          0.000000    0.1150    0.139  133.406       240166   \n",
       "1        0.4770          0.000014    0.0974    0.515  140.182       216387   \n",
       "2        0.3380          0.000050    0.0895    0.145  139.832       158960   \n",
       "3        0.8070          0.000000    0.0797    0.508  204.961       304293   \n",
       "4        0.0726          0.019300    0.1100    0.217  171.864       244320   \n",
       "\n",
       "  duration_min_secs  time_signature  \n",
       "0              4:00             3.0  \n",
       "1              3:36             4.0  \n",
       "2              2:38             4.0  \n",
       "3              5:04             4.0  \n",
       "4              4:04             4.0  "
      ]
     },
     "execution_count": 4,
     "metadata": {},
     "output_type": "execute_result"
    }
   ],
   "source": [
    "df.head()"
   ]
  },
  {
   "cell_type": "code",
   "execution_count": 5,
   "metadata": {},
   "outputs": [],
   "source": [
    "def clean_outliers(df_aux, columns: list)->pd.DataFrame:\n",
    "    \"\"\"\n",
    "    Función que elimina los valores atípicos de un dataframe en base a los cuartiles.\n",
    "    \n",
    "    Args: df_aux: DataFrame a limpiar.\n",
    "        columns: Lista de columnas a limpiar.\n",
    "    Returns: DataFrame sin valores atípicos\n",
    "    \"\"\"\n",
    "    for column in columns:\n",
    "        Q1 = df_aux[column].quantile(0.25)\n",
    "        Q3 = df_aux[column].quantile(0.75)\n",
    "        IQR = Q3 - Q1\n",
    "        df_aux = df_aux[(df_aux[column] >= Q1-1.5*IQR) & (df_aux[column] <= Q3 + 1.5*IQR)]\n",
    "    return df_aux"
   ]
  },
  {
   "cell_type": "code",
   "execution_count": null,
   "metadata": {},
   "outputs": [],
   "source": [
    "fig, ax = plt.subplots(5, 2)\n",
    "ax[0, 0].hist(df['popularity'], bins=20, color=\"skyblue\", edgecolor='black', linewidth=0.8)\n",
    "ax[0,0].title.set_text('Popularity')\n",
    "ax[0, 1].hist(df['energy'], bins=20, color=\"skyblue\", edgecolor='black', linewidth=0.8)\n",
    "ax[0,1].title.set_text('Energy')\n",
    "ax[1, 0].hist(df['danceability'], bins=20, color=\"skyblue\", edgecolor='black', linewidth=0.8)\n",
    "ax[1,0].title.set_text('Danceability')\n",
    "ax[1, 1].hist(df['loudness'], bins=20, color=\"skyblue\", edgecolor='black', linewidth=0.8)\n",
    "ax[1,1].title.set_text('Loudness')\n",
    "ax[2, 0].hist(df['speechiness'], bins=20, color=\"skyblue\", edgecolor='black', linewidth=0.8)\n",
    "ax[2,0].title.set_text('Speachiness')\n",
    "ax[2, 1].hist(df['acousticness'], bins=20, color=\"skyblue\", edgecolor='black', linewidth=0.8)\n",
    "ax[2,1].title.set_text('Acousticness')\n",
    "ax[3, 0].hist(df['instrumentalness'], bins=20, color=\"skyblue\", edgecolor='black', linewidth=0.8)\n",
    "ax[3,0].title.set_text('Instrumentalness')\n",
    "ax[3, 1].hist(df['liveness'], bins=20, color=\"skyblue\", edgecolor='black', linewidth=0.8)\n",
    "ax[3,1].title.set_text('Liveness')\n",
    "ax[4, 0].hist(df['valence'], bins=20, color=\"skyblue\", edgecolor='black', linewidth=0.8)\n",
    "ax[4,0].title.set_text('Valence')\n",
    "ax[4, 1].hist(df['tempo'], bins=20, color=\"skyblue\", edgecolor='black', linewidth=0.8)\n",
    "ax[4,1].title.set_text('Tempo')\n",
    "fig.set_size_inches(10, 6)\n",
    "fig.tight_layout()"
   ]
  },
  {
   "cell_type": "code",
   "execution_count": null,
   "metadata": {},
   "outputs": [],
   "source": [
    "fig = px.histogram(y=df['popularity'], x=df['genre'], histfunc=\"avg\"\n",
    "            , animation_frame=df[\"year\"], title=\"Popularity by Genre and Year\"\n",
    "            , labels={\"y\": \"Popularidad\", \"x\": \"Género\", \"animation_frame\": \"Año\"}\n",
    "            , category_orders={\"animation_frame\": [2000, 2001,2002,2003,2004,2005,2006,2007,2008,2009,2010,2011,2012,2013,2014,2015,2016,2017,2018,2019,2020,2021,2022,2023]}\n",
    "            )\n",
    "fig.update_layout(xaxis_tickfont_size=11)\n",
    "fig.update_xaxes(categoryorder=\"total ascending\", tickangle=-35, title_standoff=0)\n",
    "fig.show()"
   ]
  },
  {
   "cell_type": "code",
   "execution_count": 6,
   "metadata": {},
   "outputs": [],
   "source": [
    "top=30\n",
    "df_aux = df.sort_values(by='popularity', ascending=False).head(top)"
   ]
  },
  {
   "cell_type": "code",
   "execution_count": null,
   "metadata": {},
   "outputs": [],
   "source": [
    "px.area(df_aux, x='track_name', y='danceability', title=f'Top {top} canciones con mayor popularidad y su danceability'\n",
    "        , hover_data=[\"artist_name\", \"popularity\"], labels={\"danceability\": \"Danceability\", \"track_name\": \"Canción\", \"artist_name\": \"Artista\", \"popularity\": \"Popularidad\"}\n",
    "        , markers=True)"
   ]
  },
  {
   "cell_type": "code",
   "execution_count": 10,
   "metadata": {},
   "outputs": [],
   "source": [
    "df_aux = clean_outliers(df, ['tempo'])"
   ]
  },
  {
   "cell_type": "code",
   "execution_count": null,
   "metadata": {},
   "outputs": [],
   "source": [
    "px.histogram(df_aux, x='tempo', y='danceability', title=f'Tempo vs Danceability'\n",
    "        , hover_data=[\"artist_name\", \"popularity\"]\n",
    "        , labels={\"danceability\": \"Danceability\", \"track_name\": \"Canción\", \"artist_name\": \"Artista\", \"popularity\": \"Popularidad\"}\n",
    "        , histfunc=\"avg\")"
   ]
  },
  {
   "cell_type": "code",
   "execution_count": null,
   "metadata": {},
   "outputs": [],
   "source": [
    "ax = sns.histplot(df, x=\"tempo\", y=\"danceability\", bins=30\n",
    "                , cbar=True\n",
    "                , cbar_kws=dict(shrink=.75))\n",
    "ax.add_line(plt.axvline(df['tempo'].mean(), color='red', linestyle='--', label='Media', alpha=0.2))\n",
    "ax.xaxis.set_label_text(\"Tempo\")\n",
    "ax.yaxis.set_label_text(\"Danceability\");"
   ]
  },
  {
   "cell_type": "code",
   "execution_count": null,
   "metadata": {},
   "outputs": [],
   "source": [
    "px.histogram(df, x='popularity', y=\"energy\", title='Media de la energía en base a la popularidad según el año'\n",
    "        , labels={\"popularity\": \"Popularidad\", \"energy\": \"Energía\", \"year\": \"Año\"}\n",
    "        , animation_frame=\"year\"\n",
    "        , category_orders={\"year\": [2000, 2001,2002,2003,2004,2005,2006,2007,2008,2009,2010,2011,2012,2013,2014,2015,2016,2017,2018,2019,2020,2021,2022,2023]}\n",
    "        , range_y=[0, 1]\n",
    "        , range_x=[0, 100]\n",
    "        , histfunc=\"avg\")"
   ]
  },
  {
   "cell_type": "code",
   "execution_count": null,
   "metadata": {},
   "outputs": [],
   "source": [
    "px.histogram(df, x='popularity', y=\"valence\", title='Media de la positividad en base a la popularidad según el año'\n",
    "        , labels={\"popularity\": \"Popularidad\", \"valence\": \"Positividad\", \"year\": \"Año\"}\n",
    "        , animation_frame=\"year\"\n",
    "        , category_orders={\"year\": [2000, 2001,2002,2003,2004,2005,2006,2007,2008,2009,2010,2011,2012,2013,2014,2015,2016,2017,2018,2019,2020,2021,2022,2023]}\n",
    "        , range_y=[0, 1]\n",
    "        , range_x=[0, 100]\n",
    "        , histfunc=\"avg\")"
   ]
  },
  {
   "cell_type": "code",
   "execution_count": null,
   "metadata": {},
   "outputs": [],
   "source": [
    "px.histogram(df, x='mode', y=\"popularity\", title='Media de la popularidad en base al modo'\n",
    "            , labels={\"popularity\": \"Popularidad\", \"mode\": \"Modo\"}\n",
    "            , histfunc=\"avg\")"
   ]
  },
  {
   "cell_type": "code",
   "execution_count": null,
   "metadata": {},
   "outputs": [],
   "source": [
    "px.histogram(df, x='key', y=\"popularity\", title='Media de la popularidad en base a la escala de la canción'\n",
    "            , labels={\"popularity\": \"Popularidad\", \"key\": \"Escala\"}\n",
    "            , color=\"key\"\n",
    "            , histfunc=\"avg\"\n",
    "            , category_orders={\"key\": [\"C\", \"C#\", \"D\", \"D#\", \"E\", \"F\", \"F#\", \"G\", \"G#\", \"A\", \"A#\", \"B\"]})"
   ]
  },
  {
   "cell_type": "code",
   "execution_count": null,
   "metadata": {},
   "outputs": [],
   "source": [
    "df_aux = df.sort_values(by='popularity', ascending=False).head(top)\n",
    "fig = px.parallel_categories(df_aux, dimensions=['genre', 'key', 'mode', 'popularity'], color=\"popularity\", color_continuous_scale=px.colors.sequential.Agsunset\n",
    "                            , title=f'Top {top} canciones y su camino hacia la popularidad')"
   ]
  }
 ],
 "metadata": {
  "kernelspec": {
   "display_name": "Python 3",
   "language": "python",
   "name": "python3"
  },
  "language_info": {
   "codemirror_mode": {
    "name": "ipython",
    "version": 3
   },
   "file_extension": ".py",
   "mimetype": "text/x-python",
   "name": "python",
   "nbconvert_exporter": "python",
   "pygments_lexer": "ipython3",
   "version": "3.11.9"
  }
 },
 "nbformat": 4,
 "nbformat_minor": 2
}
