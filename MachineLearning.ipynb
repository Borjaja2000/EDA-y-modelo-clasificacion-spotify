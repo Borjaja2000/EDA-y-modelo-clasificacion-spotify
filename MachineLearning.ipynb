{
 "cells": [
  {
   "cell_type": "code",
   "execution_count": 2,
   "metadata": {},
   "outputs": [],
   "source": [
    "import numpy as np\n",
    "import pandas as pd\n",
    "import matplotlib.pyplot as plt\n",
    "from sklearn.preprocessing import StandardScaler\n",
    "from sklearn.linear_model import HuberRegressor\n",
    "from sklearn.model_selection import train_test_split\n",
    "from sklearn.metrics import mean_squared_error as mse"
   ]
  },
  {
   "cell_type": "code",
   "execution_count": 3,
   "metadata": {},
   "outputs": [],
   "source": [
    "df = pd.read_csv('spotify_data.zip')"
   ]
  },
  {
   "cell_type": "code",
   "execution_count": 4,
   "metadata": {},
   "outputs": [
    {
     "name": "stdout",
     "output_type": "stream",
     "text": [
      "<class 'pandas.core.frame.DataFrame'>\n",
      "RangeIndex: 1159764 entries, 0 to 1159763\n",
      "Data columns (total 20 columns):\n",
      " #   Column            Non-Null Count    Dtype  \n",
      "---  ------            --------------    -----  \n",
      " 0   Unnamed: 0        1159764 non-null  int64  \n",
      " 1   artist_name       1159749 non-null  object \n",
      " 2   track_name        1159763 non-null  object \n",
      " 3   track_id          1159764 non-null  object \n",
      " 4   popularity        1159764 non-null  int64  \n",
      " 5   year              1159764 non-null  int64  \n",
      " 6   genre             1159764 non-null  object \n",
      " 7   danceability      1159764 non-null  float64\n",
      " 8   energy            1159764 non-null  float64\n",
      " 9   key               1159764 non-null  int64  \n",
      " 10  loudness          1159764 non-null  float64\n",
      " 11  mode              1159764 non-null  int64  \n",
      " 12  speechiness       1159764 non-null  float64\n",
      " 13  acousticness      1159764 non-null  float64\n",
      " 14  instrumentalness  1159764 non-null  float64\n",
      " 15  liveness          1159764 non-null  float64\n",
      " 16  valence           1159764 non-null  float64\n",
      " 17  tempo             1159764 non-null  float64\n",
      " 18  duration_ms       1159764 non-null  int64  \n",
      " 19  time_signature    1159764 non-null  int64  \n",
      "dtypes: float64(9), int64(7), object(4)\n",
      "memory usage: 177.0+ MB\n"
     ]
    }
   ],
   "source": [
    "df.info()"
   ]
  },
  {
   "cell_type": "code",
   "execution_count": 5,
   "metadata": {},
   "outputs": [],
   "source": [
    "def clean_outliers(df_aux, columns: list)->pd.DataFrame:\n",
    "    \"\"\"\n",
    "    Función que elimina los valores atípicos de un dataframe en base a los cuartiles.\n",
    "    \n",
    "    Args: df_aux: DataFrame a limpiar.\n",
    "        columns: Lista de columnas a limpiar.\n",
    "    Returns: DataFrame sin valores atípicos\n",
    "    \"\"\"\n",
    "    for column in columns:\n",
    "        Q1 = df_aux[column].quantile(0.25)\n",
    "        Q3 = df_aux[column].quantile(0.75)\n",
    "        IQR = Q3 - Q1\n",
    "        df_aux = df_aux[(df_aux[column] >= Q1-1.5*IQR) & (df_aux[column] <= Q3 + 1.5*IQR)]\n",
    "    return df_aux"
   ]
  },
  {
   "cell_type": "code",
   "execution_count": 6,
   "metadata": {},
   "outputs": [],
   "source": [
    "df = clean_outliers(df, ['loudness', 'speechiness', 'acousticness', 'instrumentalness', 'liveness', 'valence', 'danceability', 'energy'])"
   ]
  },
  {
   "cell_type": "code",
   "execution_count": 7,
   "metadata": {},
   "outputs": [],
   "source": [
    "def normalize_data(df:pd.DataFrame, columns:list[str]):\n",
    "    # restar la media y dividir entre la desviacion tipica\n",
    "    for column in columns:\n",
    "        df[column] = (df[column] - df[column].mean()) / df[column].std()\n",
    "    return df"
   ]
  },
  {
   "cell_type": "code",
   "execution_count": 8,
   "metadata": {},
   "outputs": [],
   "source": [
    "df[\"loudness\"] = StandardScaler().fit_transform(df[[\"loudness\"]])"
   ]
  },
  {
   "cell_type": "code",
   "execution_count": 9,
   "metadata": {},
   "outputs": [],
   "source": [
    "df = normalize_data(df, [\"acousticness\", \"danceability\", \"energy\", \"instrumentalness\", \"liveness\", \"loudness\", \"speechiness\", \"valence\"])"
   ]
  },
  {
   "cell_type": "code",
   "execution_count": 10,
   "metadata": {},
   "outputs": [],
   "source": [
    "# df = df.sample(frac=0.3, random_state=42)"
   ]
  },
  {
   "cell_type": "code",
   "execution_count": 11,
   "metadata": {},
   "outputs": [],
   "source": [
    "df_aux = df[df[\"popularity\"] >= 40]"
   ]
  },
  {
   "cell_type": "code",
   "execution_count": 128,
   "metadata": {},
   "outputs": [
    {
     "data": {
      "text/html": [
       "<div>\n",
       "<style scoped>\n",
       "    .dataframe tbody tr th:only-of-type {\n",
       "        vertical-align: middle;\n",
       "    }\n",
       "\n",
       "    .dataframe tbody tr th {\n",
       "        vertical-align: top;\n",
       "    }\n",
       "\n",
       "    .dataframe thead th {\n",
       "        text-align: right;\n",
       "    }\n",
       "</style>\n",
       "<table border=\"1\" class=\"dataframe\">\n",
       "  <thead>\n",
       "    <tr style=\"text-align: right;\">\n",
       "      <th></th>\n",
       "      <th>Unnamed: 0</th>\n",
       "      <th>artist_name</th>\n",
       "      <th>track_name</th>\n",
       "      <th>track_id</th>\n",
       "      <th>popularity</th>\n",
       "      <th>year</th>\n",
       "      <th>genre</th>\n",
       "      <th>danceability</th>\n",
       "      <th>energy</th>\n",
       "      <th>key</th>\n",
       "      <th>loudness</th>\n",
       "      <th>mode</th>\n",
       "      <th>speechiness</th>\n",
       "      <th>acousticness</th>\n",
       "      <th>instrumentalness</th>\n",
       "      <th>liveness</th>\n",
       "      <th>valence</th>\n",
       "      <th>tempo</th>\n",
       "      <th>duration_ms</th>\n",
       "      <th>time_signature</th>\n",
       "    </tr>\n",
       "  </thead>\n",
       "  <tbody>\n",
       "    <tr>\n",
       "      <th>0</th>\n",
       "      <td>0</td>\n",
       "      <td>Jason Mraz</td>\n",
       "      <td>I Won't Give Up</td>\n",
       "      <td>53QF56cjZA9RTuuMZDrSA6</td>\n",
       "      <td>68</td>\n",
       "      <td>2012</td>\n",
       "      <td>acoustic</td>\n",
       "      <td>-0.391496</td>\n",
       "      <td>-1.484831</td>\n",
       "      <td>4</td>\n",
       "      <td>-0.565039</td>\n",
       "      <td>1</td>\n",
       "      <td>-0.480778</td>\n",
       "      <td>1.235078</td>\n",
       "      <td>-0.680152</td>\n",
       "      <td>-0.518891</td>\n",
       "      <td>-1.253612</td>\n",
       "      <td>133.406</td>\n",
       "      <td>240166</td>\n",
       "      <td>3</td>\n",
       "    </tr>\n",
       "    <tr>\n",
       "      <th>1</th>\n",
       "      <td>1</td>\n",
       "      <td>Jason Mraz</td>\n",
       "      <td>93 Million Miles</td>\n",
       "      <td>1s8tP3jP4GZcyHDsjvw218</td>\n",
       "      <td>50</td>\n",
       "      <td>2012</td>\n",
       "      <td>acoustic</td>\n",
       "      <td>0.119393</td>\n",
       "      <td>-0.861456</td>\n",
       "      <td>3</td>\n",
       "      <td>-0.626523</td>\n",
       "      <td>1</td>\n",
       "      <td>-1.003962</td>\n",
       "      <td>0.582331</td>\n",
       "      <td>-0.680114</td>\n",
       "      <td>-0.676896</td>\n",
       "      <td>0.161790</td>\n",
       "      <td>140.182</td>\n",
       "      <td>216387</td>\n",
       "      <td>4</td>\n",
       "    </tr>\n",
       "    <tr>\n",
       "      <th>2</th>\n",
       "      <td>2</td>\n",
       "      <td>Joshua Hyslop</td>\n",
       "      <td>Do Not Let Me Go</td>\n",
       "      <td>7BRCa8MPiyuvr2VU3O9W0F</td>\n",
       "      <td>57</td>\n",
       "      <td>2012</td>\n",
       "      <td>acoustic</td>\n",
       "      <td>-0.816281</td>\n",
       "      <td>-1.769684</td>\n",
       "      <td>3</td>\n",
       "      <td>-1.550139</td>\n",
       "      <td>1</td>\n",
       "      <td>-0.805091</td>\n",
       "      <td>0.164211</td>\n",
       "      <td>-0.680012</td>\n",
       "      <td>-0.747818</td>\n",
       "      <td>-1.231026</td>\n",
       "      <td>139.832</td>\n",
       "      <td>158960</td>\n",
       "      <td>4</td>\n",
       "    </tr>\n",
       "    <tr>\n",
       "      <th>3</th>\n",
       "      <td>3</td>\n",
       "      <td>Boyce Avenue</td>\n",
       "      <td>Fast Car</td>\n",
       "      <td>63wsZUhUZLlh1OsyrZq7sz</td>\n",
       "      <td>58</td>\n",
       "      <td>2012</td>\n",
       "      <td>acoustic</td>\n",
       "      <td>-0.913866</td>\n",
       "      <td>-1.699503</td>\n",
       "      <td>10</td>\n",
       "      <td>-0.507599</td>\n",
       "      <td>1</td>\n",
       "      <td>-0.682709</td>\n",
       "      <td>1.574988</td>\n",
       "      <td>-0.680152</td>\n",
       "      <td>-0.835798</td>\n",
       "      <td>0.135439</td>\n",
       "      <td>204.961</td>\n",
       "      <td>304293</td>\n",
       "      <td>4</td>\n",
       "    </tr>\n",
       "    <tr>\n",
       "      <th>4</th>\n",
       "      <td>4</td>\n",
       "      <td>Andrew Belle</td>\n",
       "      <td>Sky's Still Blue</td>\n",
       "      <td>6nXIYClvJAfi6ujLiKqEq8</td>\n",
       "      <td>54</td>\n",
       "      <td>2012</td>\n",
       "      <td>acoustic</td>\n",
       "      <td>-0.695734</td>\n",
       "      <td>0.529784</td>\n",
       "      <td>6</td>\n",
       "      <td>0.685954</td>\n",
       "      <td>0</td>\n",
       "      <td>-0.869342</td>\n",
       "      <td>-0.634126</td>\n",
       "      <td>-0.625835</td>\n",
       "      <td>-0.563778</td>\n",
       "      <td>-0.959991</td>\n",
       "      <td>171.864</td>\n",
       "      <td>244320</td>\n",
       "      <td>4</td>\n",
       "    </tr>\n",
       "    <tr>\n",
       "      <th>...</th>\n",
       "      <td>...</td>\n",
       "      <td>...</td>\n",
       "      <td>...</td>\n",
       "      <td>...</td>\n",
       "      <td>...</td>\n",
       "      <td>...</td>\n",
       "      <td>...</td>\n",
       "      <td>...</td>\n",
       "      <td>...</td>\n",
       "      <td>...</td>\n",
       "      <td>...</td>\n",
       "      <td>...</td>\n",
       "      <td>...</td>\n",
       "      <td>...</td>\n",
       "      <td>...</td>\n",
       "      <td>...</td>\n",
       "      <td>...</td>\n",
       "      <td>...</td>\n",
       "      <td>...</td>\n",
       "      <td>...</td>\n",
       "    </tr>\n",
       "    <tr>\n",
       "      <th>1158023</th>\n",
       "      <td>1469568</td>\n",
       "      <td>Veronica Maggio</td>\n",
       "      <td>Alla mina låtar</td>\n",
       "      <td>5y5tGEVkCJ5kfhmmidqeOO</td>\n",
       "      <td>41</td>\n",
       "      <td>2011</td>\n",
       "      <td>swedish</td>\n",
       "      <td>-0.311132</td>\n",
       "      <td>0.009617</td>\n",
       "      <td>2</td>\n",
       "      <td>0.132864</td>\n",
       "      <td>1</td>\n",
       "      <td>-0.756138</td>\n",
       "      <td>-0.844690</td>\n",
       "      <td>-0.678419</td>\n",
       "      <td>-0.667918</td>\n",
       "      <td>-0.429216</td>\n",
       "      <td>154.963</td>\n",
       "      <td>209373</td>\n",
       "      <td>4</td>\n",
       "    </tr>\n",
       "    <tr>\n",
       "      <th>1159047</th>\n",
       "      <td>1471681</td>\n",
       "      <td>Nadia Ali</td>\n",
       "      <td>Pressure - Alesso Remix</td>\n",
       "      <td>582JLMTy2WCHPgKFJ4xCq7</td>\n",
       "      <td>50</td>\n",
       "      <td>2011</td>\n",
       "      <td>trance</td>\n",
       "      <td>0.509736</td>\n",
       "      <td>0.533912</td>\n",
       "      <td>10</td>\n",
       "      <td>0.832654</td>\n",
       "      <td>0</td>\n",
       "      <td>-0.511373</td>\n",
       "      <td>-0.850893</td>\n",
       "      <td>1.019732</td>\n",
       "      <td>-0.882482</td>\n",
       "      <td>-0.335106</td>\n",
       "      <td>128.001</td>\n",
       "      <td>368000</td>\n",
       "      <td>4</td>\n",
       "    </tr>\n",
       "    <tr>\n",
       "      <th>1159048</th>\n",
       "      <td>1471690</td>\n",
       "      <td>Nadia Ali</td>\n",
       "      <td>Pressure - Alesso Radio Edit</td>\n",
       "      <td>4uB7RmCoM5NAZKMYypDLpz</td>\n",
       "      <td>45</td>\n",
       "      <td>2011</td>\n",
       "      <td>trance</td>\n",
       "      <td>-0.138922</td>\n",
       "      <td>0.839407</td>\n",
       "      <td>10</td>\n",
       "      <td>0.303294</td>\n",
       "      <td>0</td>\n",
       "      <td>-0.734721</td>\n",
       "      <td>-0.851988</td>\n",
       "      <td>1.050690</td>\n",
       "      <td>-0.114901</td>\n",
       "      <td>-0.775537</td>\n",
       "      <td>128.033</td>\n",
       "      <td>182930</td>\n",
       "      <td>4</td>\n",
       "    </tr>\n",
       "    <tr>\n",
       "      <th>1159049</th>\n",
       "      <td>1471696</td>\n",
       "      <td>iio</td>\n",
       "      <td>Rapture (Armin Van Burren Remix Remastered - M...</td>\n",
       "      <td>4RQGig0Vhr4GXmqfklCCyK</td>\n",
       "      <td>47</td>\n",
       "      <td>2011</td>\n",
       "      <td>trance</td>\n",
       "      <td>-0.058557</td>\n",
       "      <td>1.107747</td>\n",
       "      <td>10</td>\n",
       "      <td>-0.464992</td>\n",
       "      <td>0</td>\n",
       "      <td>-0.104452</td>\n",
       "      <td>0.128115</td>\n",
       "      <td>-0.317098</td>\n",
       "      <td>1.366395</td>\n",
       "      <td>-1.219733</td>\n",
       "      <td>128.584</td>\n",
       "      <td>189701</td>\n",
       "      <td>4</td>\n",
       "    </tr>\n",
       "    <tr>\n",
       "      <th>1159050</th>\n",
       "      <td>1471704</td>\n",
       "      <td>Solar Fields</td>\n",
       "      <td>Phase 09 - Sombrero</td>\n",
       "      <td>4uKzc4cK3OOzVPluOAoBj2</td>\n",
       "      <td>45</td>\n",
       "      <td>2011</td>\n",
       "      <td>trance</td>\n",
       "      <td>-0.529264</td>\n",
       "      <td>-1.290801</td>\n",
       "      <td>7</td>\n",
       "      <td>-2.143680</td>\n",
       "      <td>0</td>\n",
       "      <td>-0.704125</td>\n",
       "      <td>-0.730083</td>\n",
       "      <td>1.599493</td>\n",
       "      <td>-0.321385</td>\n",
       "      <td>-1.637577</td>\n",
       "      <td>89.890</td>\n",
       "      <td>345171</td>\n",
       "      <td>3</td>\n",
       "    </tr>\n",
       "  </tbody>\n",
       "</table>\n",
       "<p>104508 rows × 20 columns</p>\n",
       "</div>"
      ],
      "text/plain": [
       "         Unnamed: 0      artist_name  \\\n",
       "0                 0       Jason Mraz   \n",
       "1                 1       Jason Mraz   \n",
       "2                 2    Joshua Hyslop   \n",
       "3                 3     Boyce Avenue   \n",
       "4                 4     Andrew Belle   \n",
       "...             ...              ...   \n",
       "1158023     1469568  Veronica Maggio   \n",
       "1159047     1471681        Nadia Ali   \n",
       "1159048     1471690        Nadia Ali   \n",
       "1159049     1471696              iio   \n",
       "1159050     1471704     Solar Fields   \n",
       "\n",
       "                                                track_name  \\\n",
       "0                                          I Won't Give Up   \n",
       "1                                         93 Million Miles   \n",
       "2                                         Do Not Let Me Go   \n",
       "3                                                 Fast Car   \n",
       "4                                         Sky's Still Blue   \n",
       "...                                                    ...   \n",
       "1158023                                    Alla mina låtar   \n",
       "1159047                            Pressure - Alesso Remix   \n",
       "1159048                       Pressure - Alesso Radio Edit   \n",
       "1159049  Rapture (Armin Van Burren Remix Remastered - M...   \n",
       "1159050                                Phase 09 - Sombrero   \n",
       "\n",
       "                       track_id  popularity  year     genre  danceability  \\\n",
       "0        53QF56cjZA9RTuuMZDrSA6          68  2012  acoustic     -0.391496   \n",
       "1        1s8tP3jP4GZcyHDsjvw218          50  2012  acoustic      0.119393   \n",
       "2        7BRCa8MPiyuvr2VU3O9W0F          57  2012  acoustic     -0.816281   \n",
       "3        63wsZUhUZLlh1OsyrZq7sz          58  2012  acoustic     -0.913866   \n",
       "4        6nXIYClvJAfi6ujLiKqEq8          54  2012  acoustic     -0.695734   \n",
       "...                         ...         ...   ...       ...           ...   \n",
       "1158023  5y5tGEVkCJ5kfhmmidqeOO          41  2011   swedish     -0.311132   \n",
       "1159047  582JLMTy2WCHPgKFJ4xCq7          50  2011    trance      0.509736   \n",
       "1159048  4uB7RmCoM5NAZKMYypDLpz          45  2011    trance     -0.138922   \n",
       "1159049  4RQGig0Vhr4GXmqfklCCyK          47  2011    trance     -0.058557   \n",
       "1159050  4uKzc4cK3OOzVPluOAoBj2          45  2011    trance     -0.529264   \n",
       "\n",
       "           energy  key  loudness  mode  speechiness  acousticness  \\\n",
       "0       -1.484831    4 -0.565039     1    -0.480778      1.235078   \n",
       "1       -0.861456    3 -0.626523     1    -1.003962      0.582331   \n",
       "2       -1.769684    3 -1.550139     1    -0.805091      0.164211   \n",
       "3       -1.699503   10 -0.507599     1    -0.682709      1.574988   \n",
       "4        0.529784    6  0.685954     0    -0.869342     -0.634126   \n",
       "...           ...  ...       ...   ...          ...           ...   \n",
       "1158023  0.009617    2  0.132864     1    -0.756138     -0.844690   \n",
       "1159047  0.533912   10  0.832654     0    -0.511373     -0.850893   \n",
       "1159048  0.839407   10  0.303294     0    -0.734721     -0.851988   \n",
       "1159049  1.107747   10 -0.464992     0    -0.104452      0.128115   \n",
       "1159050 -1.290801    7 -2.143680     0    -0.704125     -0.730083   \n",
       "\n",
       "         instrumentalness  liveness   valence    tempo  duration_ms  \\\n",
       "0               -0.680152 -0.518891 -1.253612  133.406       240166   \n",
       "1               -0.680114 -0.676896  0.161790  140.182       216387   \n",
       "2               -0.680012 -0.747818 -1.231026  139.832       158960   \n",
       "3               -0.680152 -0.835798  0.135439  204.961       304293   \n",
       "4               -0.625835 -0.563778 -0.959991  171.864       244320   \n",
       "...                   ...       ...       ...      ...          ...   \n",
       "1158023         -0.678419 -0.667918 -0.429216  154.963       209373   \n",
       "1159047          1.019732 -0.882482 -0.335106  128.001       368000   \n",
       "1159048          1.050690 -0.114901 -0.775537  128.033       182930   \n",
       "1159049         -0.317098  1.366395 -1.219733  128.584       189701   \n",
       "1159050          1.599493 -0.321385 -1.637577   89.890       345171   \n",
       "\n",
       "         time_signature  \n",
       "0                     3  \n",
       "1                     4  \n",
       "2                     4  \n",
       "3                     4  \n",
       "4                     4  \n",
       "...                 ...  \n",
       "1158023               4  \n",
       "1159047               4  \n",
       "1159048               4  \n",
       "1159049               4  \n",
       "1159050               3  \n",
       "\n",
       "[104508 rows x 20 columns]"
      ]
     },
     "execution_count": 128,
     "metadata": {},
     "output_type": "execute_result"
    }
   ],
   "source": [
    "df_aux"
   ]
  },
  {
   "cell_type": "markdown",
   "metadata": {},
   "source": [
    "### Regresion"
   ]
  },
  {
   "cell_type": "code",
   "execution_count": 111,
   "metadata": {},
   "outputs": [],
   "source": [
    "X, y = df_aux.drop(columns={\"year\", \"Unnamed: 0\", \"popularity\", \"artist_name\", \"track_name\", \"track_id\", \"genre\", \"duration_ms\", \"time_signature\", \"key\", \"mode\", \"tempo\"}, axis=1), df_aux['popularity']\n",
    "X_train, X_test, y_train, y_test = train_test_split(X, y, test_size = .25, random_state=15)"
   ]
  },
  {
   "cell_type": "code",
   "execution_count": 112,
   "metadata": {},
   "outputs": [
    {
     "data": {
      "text/html": [
       "<div>\n",
       "<style scoped>\n",
       "    .dataframe tbody tr th:only-of-type {\n",
       "        vertical-align: middle;\n",
       "    }\n",
       "\n",
       "    .dataframe tbody tr th {\n",
       "        vertical-align: top;\n",
       "    }\n",
       "\n",
       "    .dataframe thead th {\n",
       "        text-align: right;\n",
       "    }\n",
       "</style>\n",
       "<table border=\"1\" class=\"dataframe\">\n",
       "  <thead>\n",
       "    <tr style=\"text-align: right;\">\n",
       "      <th></th>\n",
       "      <th>danceability</th>\n",
       "      <th>energy</th>\n",
       "      <th>loudness</th>\n",
       "      <th>speechiness</th>\n",
       "      <th>acousticness</th>\n",
       "      <th>instrumentalness</th>\n",
       "      <th>liveness</th>\n",
       "      <th>valence</th>\n",
       "    </tr>\n",
       "  </thead>\n",
       "  <tbody>\n",
       "    <tr>\n",
       "      <th>174911</th>\n",
       "      <td>1.663542</td>\n",
       "      <td>0.187134</td>\n",
       "      <td>1.055940</td>\n",
       "      <td>-0.581743</td>\n",
       "      <td>-0.831755</td>\n",
       "      <td>-0.680144</td>\n",
       "      <td>-0.683180</td>\n",
       "      <td>0.158026</td>\n",
       "    </tr>\n",
       "    <tr>\n",
       "      <th>298700</th>\n",
       "      <td>0.664725</td>\n",
       "      <td>-0.886226</td>\n",
       "      <td>0.577817</td>\n",
       "      <td>-0.486897</td>\n",
       "      <td>0.726717</td>\n",
       "      <td>-0.680152</td>\n",
       "      <td>-0.937245</td>\n",
       "      <td>1.882106</td>\n",
       "    </tr>\n",
       "    <tr>\n",
       "      <th>257842</th>\n",
       "      <td>1.485592</td>\n",
       "      <td>0.071542</td>\n",
       "      <td>0.369633</td>\n",
       "      <td>-0.685768</td>\n",
       "      <td>-0.413335</td>\n",
       "      <td>-0.676325</td>\n",
       "      <td>1.339462</td>\n",
       "      <td>1.882106</td>\n",
       "    </tr>\n",
       "    <tr>\n",
       "      <th>413693</th>\n",
       "      <td>-0.804800</td>\n",
       "      <td>-0.877970</td>\n",
       "      <td>0.578356</td>\n",
       "      <td>-0.728602</td>\n",
       "      <td>1.259143</td>\n",
       "      <td>-0.680152</td>\n",
       "      <td>-0.850162</td>\n",
       "      <td>-0.101716</td>\n",
       "    </tr>\n",
       "    <tr>\n",
       "      <th>1049246</th>\n",
       "      <td>0.159575</td>\n",
       "      <td>-1.266031</td>\n",
       "      <td>-0.903203</td>\n",
       "      <td>-0.997843</td>\n",
       "      <td>-0.007248</td>\n",
       "      <td>-0.680118</td>\n",
       "      <td>0.091583</td>\n",
       "      <td>-0.873411</td>\n",
       "    </tr>\n",
       "    <tr>\n",
       "      <th>...</th>\n",
       "      <td>...</td>\n",
       "      <td>...</td>\n",
       "      <td>...</td>\n",
       "      <td>...</td>\n",
       "      <td>...</td>\n",
       "      <td>...</td>\n",
       "      <td>...</td>\n",
       "      <td>...</td>\n",
       "    </tr>\n",
       "    <tr>\n",
       "      <th>452981</th>\n",
       "      <td>1.106730</td>\n",
       "      <td>-1.394008</td>\n",
       "      <td>-0.415373</td>\n",
       "      <td>0.170908</td>\n",
       "      <td>0.224372</td>\n",
       "      <td>-0.680150</td>\n",
       "      <td>-0.635599</td>\n",
       "      <td>-1.295020</td>\n",
       "    </tr>\n",
       "    <tr>\n",
       "      <th>547505</th>\n",
       "      <td>0.280122</td>\n",
       "      <td>0.921973</td>\n",
       "      <td>1.112031</td>\n",
       "      <td>-0.789793</td>\n",
       "      <td>-0.818821</td>\n",
       "      <td>-0.635404</td>\n",
       "      <td>2.165397</td>\n",
       "      <td>-0.180767</td>\n",
       "    </tr>\n",
       "    <tr>\n",
       "      <th>126316</th>\n",
       "      <td>-1.505120</td>\n",
       "      <td>-0.089462</td>\n",
       "      <td>0.602087</td>\n",
       "      <td>-0.364515</td>\n",
       "      <td>-0.506585</td>\n",
       "      <td>-0.680152</td>\n",
       "      <td>-0.876197</td>\n",
       "      <td>-1.023985</td>\n",
       "    </tr>\n",
       "    <tr>\n",
       "      <th>473910</th>\n",
       "      <td>1.169874</td>\n",
       "      <td>-0.233953</td>\n",
       "      <td>0.411971</td>\n",
       "      <td>-0.835686</td>\n",
       "      <td>0.795903</td>\n",
       "      <td>-0.680152</td>\n",
       "      <td>-0.402183</td>\n",
       "      <td>0.545755</td>\n",
       "    </tr>\n",
       "    <tr>\n",
       "      <th>119904</th>\n",
       "      <td>0.107913</td>\n",
       "      <td>-0.807788</td>\n",
       "      <td>-0.320719</td>\n",
       "      <td>3.438516</td>\n",
       "      <td>-0.725872</td>\n",
       "      <td>-0.673032</td>\n",
       "      <td>-0.429115</td>\n",
       "      <td>0.139204</td>\n",
       "    </tr>\n",
       "  </tbody>\n",
       "</table>\n",
       "<p>78381 rows × 8 columns</p>\n",
       "</div>"
      ],
      "text/plain": [
       "         danceability    energy  loudness  speechiness  acousticness  \\\n",
       "174911       1.663542  0.187134  1.055940    -0.581743     -0.831755   \n",
       "298700       0.664725 -0.886226  0.577817    -0.486897      0.726717   \n",
       "257842       1.485592  0.071542  0.369633    -0.685768     -0.413335   \n",
       "413693      -0.804800 -0.877970  0.578356    -0.728602      1.259143   \n",
       "1049246      0.159575 -1.266031 -0.903203    -0.997843     -0.007248   \n",
       "...               ...       ...       ...          ...           ...   \n",
       "452981       1.106730 -1.394008 -0.415373     0.170908      0.224372   \n",
       "547505       0.280122  0.921973  1.112031    -0.789793     -0.818821   \n",
       "126316      -1.505120 -0.089462  0.602087    -0.364515     -0.506585   \n",
       "473910       1.169874 -0.233953  0.411971    -0.835686      0.795903   \n",
       "119904       0.107913 -0.807788 -0.320719     3.438516     -0.725872   \n",
       "\n",
       "         instrumentalness  liveness   valence  \n",
       "174911          -0.680144 -0.683180  0.158026  \n",
       "298700          -0.680152 -0.937245  1.882106  \n",
       "257842          -0.676325  1.339462  1.882106  \n",
       "413693          -0.680152 -0.850162 -0.101716  \n",
       "1049246         -0.680118  0.091583 -0.873411  \n",
       "...                   ...       ...       ...  \n",
       "452981          -0.680150 -0.635599 -1.295020  \n",
       "547505          -0.635404  2.165397 -0.180767  \n",
       "126316          -0.680152 -0.876197 -1.023985  \n",
       "473910          -0.680152 -0.402183  0.545755  \n",
       "119904          -0.673032 -0.429115  0.139204  \n",
       "\n",
       "[78381 rows x 8 columns]"
      ]
     },
     "execution_count": 112,
     "metadata": {},
     "output_type": "execute_result"
    }
   ],
   "source": [
    "X_train"
   ]
  },
  {
   "cell_type": "code",
   "execution_count": 113,
   "metadata": {},
   "outputs": [
    {
     "name": "stdout",
     "output_type": "stream",
     "text": [
      "63.30917913494045\n"
     ]
    }
   ],
   "source": [
    "epsilon = 100\n",
    "max_iter = 500\n",
    "\n",
    "model = HuberRegressor(epsilon=epsilon, max_iter=max_iter)\n",
    "model.fit(X_train, y_train) \n",
    "mse_SVR = mse(y_test,model.predict(X_test))\n",
    "print(mse_SVR)"
   ]
  },
  {
   "cell_type": "code",
   "execution_count": 115,
   "metadata": {},
   "outputs": [
    {
     "name": "stderr",
     "output_type": "stream",
     "text": [
      "[Parallel(n_jobs=1)]: Done  49 tasks      | elapsed:   36.3s\n",
      "[Parallel(n_jobs=1)]: Done 199 tasks      | elapsed:  2.4min\n",
      "[Parallel(n_jobs=1)]: Done  49 tasks      | elapsed:    0.3s\n"
     ]
    },
    {
     "name": "stdout",
     "output_type": "stream",
     "text": [
      "64.28771447474\n"
     ]
    },
    {
     "name": "stderr",
     "output_type": "stream",
     "text": [
      "[Parallel(n_jobs=1)]: Done 199 tasks      | elapsed:    1.5s\n"
     ]
    }
   ],
   "source": [
    "#Librerías\n",
    "from sklearn.ensemble import RandomForestRegressor\n",
    "#Inicializamos modelo y parámetros\n",
    "n_estimators = 200 #Estimadores del modelo\n",
    "criterion = 'squared_error' #Forma de calcular el error\n",
    "max_depth = None #Límite de profundidad de los árboles\n",
    "min_samples_split = 2 #Criterio de parada de profundidad\n",
    "verbose = 1 #Información devuelta por el método\n",
    "#Instanciamos el modelo\n",
    "model = RandomForestRegressor(n_estimators=n_estimators, criterion=criterion, max_depth=max_depth, min_samples_split=min_samples_split, verbose=verbose)\n",
    "#Entrenamos modelo y elaboramos predicciones\n",
    "model.fit(X_train, y_train)\n",
    "mse_RF = mse(y_test,model.predict(X_test))\n",
    "print(mse_RF)"
   ]
  },
  {
   "cell_type": "code",
   "execution_count": 114,
   "metadata": {},
   "outputs": [
    {
     "name": "stdout",
     "output_type": "stream",
     "text": [
      "63.18871139943824\n"
     ]
    }
   ],
   "source": [
    "#Librerías\n",
    "import xgboost as xgb\n",
    "#Inicializamos modelo y parámetros\n",
    "params = {\"booster\":\"gbtree\", \"max_depth\": 2, \"eta\": 0.3, \"objective\": \"reg:squarederror\", \"nthread\":2}\n",
    "num_boost_round = 10\n",
    "train_data = xgb.DMatrix(X_train, label=y_train)\n",
    "test_data = xgb.DMatrix(X_test, label=y_test)\n",
    "#Instanciamos el modelo, entrenamos y elaboramos predicciones\n",
    "model = xgb.train(params = params, dtrain = train_data, num_boost_round=num_boost_round)\n",
    "mse_XGB = mse(y_test,model.predict(test_data))\n",
    "print(mse_XGB)"
   ]
  },
  {
   "cell_type": "code",
   "execution_count": 116,
   "metadata": {},
   "outputs": [
    {
     "name": "stdout",
     "output_type": "stream",
     "text": [
      "65.89237475829054\n"
     ]
    }
   ],
   "source": [
    "#Librerías\n",
    "from sklearn import svm\n",
    "#Inicializamos modelo y parámetros\n",
    "C = 1 #Parámetro regularizador\n",
    "kernel = 'rbf' #Núcleo transformador\n",
    "#Instanciamos el modelo\n",
    "model = svm.SVR(C = C, kernel = kernel)\n",
    "#Entrenamos modelo y elaboramos predicciones\n",
    "model.fit(X_train, y_train)\n",
    "mse_SVR = mse(y_test,model.predict(X_test))\n",
    "print(mse_SVR)"
   ]
  },
  {
   "cell_type": "code",
   "execution_count": 139,
   "metadata": {},
   "outputs": [
    {
     "data": {
      "text/plain": [
       "Text(0.5, 0, 'Modelo')"
      ]
     },
     "execution_count": 139,
     "metadata": {},
     "output_type": "execute_result"
    },
    {
     "data": {
      "image/png": "[encoded data removed]",
      "text/plain": [
       "<Figure size 640x480 with 1 Axes>"
      ]
     },
     "metadata": {},
     "output_type": "display_data"
    }
   ],
   "source": [
    "mse = [mse_SVR, mse_RF, mse_XGB]\n",
    "plt.scatter(['SVR', 'RF', 'XGB'], mse)\n",
    "plt.ylabel('mse')\n",
    "plt.xlabel('Modelo')"
   ]
  },
  {
   "cell_type": "markdown",
   "metadata": {},
   "source": [
    "### Clasificacion"
   ]
  },
  {
   "cell_type": "code",
   "execution_count": 12,
   "metadata": {},
   "outputs": [],
   "source": [
    "from sklearn.metrics import classification_report"
   ]
  },
  {
   "cell_type": "code",
   "execution_count": 13,
   "metadata": {},
   "outputs": [],
   "source": [
    "def popularity(x):\n",
    "    if 25 > x >= 0 :\n",
    "        return \"Baja popularidad\"\n",
    "    elif 50 > x >= 25:\n",
    "        return \"Popularidad media\"\n",
    "    else:\n",
    "        return \"Alta popularidad\" "
   ]
  },
  {
   "cell_type": "code",
   "execution_count": 21,
   "metadata": {},
   "outputs": [],
   "source": [
    "def popularity(x):\n",
    "    if 50 > x >= 0 :\n",
    "        return \"Baja popularidad\"\n",
    "    else:\n",
    "        return \"Alta popularidad\""
   ]
  },
  {
   "cell_type": "code",
   "execution_count": 22,
   "metadata": {},
   "outputs": [],
   "source": [
    "df[\"popularity_target\"] = df[\"popularity\"].apply(lambda x: popularity(x))"
   ]
  },
  {
   "cell_type": "code",
   "execution_count": 23,
   "metadata": {},
   "outputs": [
    {
     "data": {
      "text/plain": [
       "popularity_target\n",
       "Baja popularidad    849109\n",
       "Alta popularidad     41044\n",
       "Name: count, dtype: int64"
      ]
     },
     "execution_count": 23,
     "metadata": {},
     "output_type": "execute_result"
    }
   ],
   "source": [
    "df[\"popularity_target\"].value_counts()"
   ]
  },
  {
   "cell_type": "code",
   "execution_count": 24,
   "metadata": {},
   "outputs": [],
   "source": [
    "X, y = df.drop(columns={\"year\", \"Unnamed: 0\", \"popularity\", \"artist_name\", \"track_name\", \"track_id\", \"genre\", \"duration_ms\", \"time_signature\", \"key\", \"mode\", \"tempo\", \"popularity_target\"}, axis=1), df['popularity_target']\n",
    "X_train, X_test, y_train, y_test = train_test_split(X, y, test_size = .25, random_state=15)"
   ]
  },
  {
   "cell_type": "code",
   "execution_count": 25,
   "metadata": {},
   "outputs": [
    {
     "name": "stdout",
     "output_type": "stream",
     "text": [
      "                  precision    recall  f1-score   support\n",
      "\n",
      "Alta popularidad       0.00      0.00      0.00     10325\n",
      "Baja popularidad       0.95      1.00      0.98    212214\n",
      "\n",
      "        accuracy                           0.95    222539\n",
      "       macro avg       0.48      0.50      0.49    222539\n",
      "    weighted avg       0.91      0.95      0.93    222539\n",
      "\n"
     ]
    }
   ],
   "source": [
    "from sklearn.linear_model import LogisticRegression\n",
    "# Create an instance of Logistic Regression Classifier and fit the data.\n",
    "logreg = LogisticRegression(max_iter =100)\n",
    "logreg.fit(X_train, y_train)\n",
    "y_pred = logreg.predict(X_test)\n",
    "print(classification_report(y_test, y_pred))"
   ]
  },
  {
   "cell_type": "code",
   "execution_count": 26,
   "metadata": {},
   "outputs": [
    {
     "name": "stdout",
     "output_type": "stream",
     "text": [
      "                  precision    recall  f1-score   support\n",
      "\n",
      "Alta popularidad       0.19      0.01      0.02     10325\n",
      "Baja popularidad       0.95      1.00      0.98    212214\n",
      "\n",
      "        accuracy                           0.95    222539\n",
      "       macro avg       0.57      0.50      0.50    222539\n",
      "    weighted avg       0.92      0.95      0.93    222539\n",
      "\n"
     ]
    }
   ],
   "source": [
    "from sklearn.neighbors import KNeighborsClassifier\n",
    "#Parámetros\n",
    "weights = 'distance'\n",
    "p = 2\n",
    "n_neighbours = 10\n",
    "#Modelo\n",
    "clf = KNeighborsClassifier(n_neighbors = n_neighbours, weights = weights, p = p)\n",
    "\n",
    "clf.fit(X_train, y_train)\n",
    "\n",
    "y_pred = clf.predict(X_test)\n",
    "\n",
    "\n",
    "print(classification_report(y_test, y_pred))"
   ]
  },
  {
   "cell_type": "code",
   "execution_count": 27,
   "metadata": {},
   "outputs": [
    {
     "name": "stderr",
     "output_type": "stream",
     "text": [
      "C:\\Users\\NITROPC\\AppData\\Local\\Packages\\PythonSoftwareFoundation.Python.3.11_qbz5n2kfra8p0\\LocalCache\\local-packages\\Python311\\site-packages\\sklearn\\metrics\\_classification.py:1509: UndefinedMetricWarning: Precision is ill-defined and being set to 0.0 in labels with no predicted samples. Use `zero_division` parameter to control this behavior.\n",
      "  _warn_prf(average, modifier, f\"{metric.capitalize()} is\", len(result))\n",
      "C:\\Users\\NITROPC\\AppData\\Local\\Packages\\PythonSoftwareFoundation.Python.3.11_qbz5n2kfra8p0\\LocalCache\\local-packages\\Python311\\site-packages\\sklearn\\metrics\\_classification.py:1509: UndefinedMetricWarning: Precision is ill-defined and being set to 0.0 in labels with no predicted samples. Use `zero_division` parameter to control this behavior.\n",
      "  _warn_prf(average, modifier, f\"{metric.capitalize()} is\", len(result))\n"
     ]
    },
    {
     "name": "stdout",
     "output_type": "stream",
     "text": [
      "                  precision    recall  f1-score   support\n",
      "\n",
      "Alta popularidad       0.00      0.00      0.00     10325\n",
      "Baja popularidad       0.95      1.00      0.98    212214\n",
      "\n",
      "        accuracy                           0.95    222539\n",
      "       macro avg       0.48      0.50      0.49    222539\n",
      "    weighted avg       0.91      0.95      0.93    222539\n",
      "\n"
     ]
    },
    {
     "name": "stderr",
     "output_type": "stream",
     "text": [
      "C:\\Users\\NITROPC\\AppData\\Local\\Packages\\PythonSoftwareFoundation.Python.3.11_qbz5n2kfra8p0\\LocalCache\\local-packages\\Python311\\site-packages\\sklearn\\metrics\\_classification.py:1509: UndefinedMetricWarning: Precision is ill-defined and being set to 0.0 in labels with no predicted samples. Use `zero_division` parameter to control this behavior.\n",
      "  _warn_prf(average, modifier, f\"{metric.capitalize()} is\", len(result))\n"
     ]
    }
   ],
   "source": [
    "from sklearn.naive_bayes import GaussianNB\n",
    "#Tratamos datos como pd.DataFrame\n",
    "#Modelo\n",
    "nbmodelo = GaussianNB()\n",
    "\n",
    "nbmodelo.fit(X_train, y_train)\n",
    "y_pred = nbmodelo.predict(X_test)\n",
    "\n",
    "print(classification_report(y_test, y_pred))"
   ]
  },
  {
   "cell_type": "code",
   "execution_count": 28,
   "metadata": {},
   "outputs": [
    {
     "name": "stdout",
     "output_type": "stream",
     "text": [
      "                  precision    recall  f1-score   support\n",
      "\n",
      "Alta popularidad       0.25      0.00      0.01     10325\n",
      "Baja popularidad       0.95      1.00      0.98    212214\n",
      "\n",
      "        accuracy                           0.95    222539\n",
      "       macro avg       0.60      0.50      0.49    222539\n",
      "    weighted avg       0.92      0.95      0.93    222539\n",
      "\n"
     ]
    }
   ],
   "source": [
    "from sklearn.ensemble import RandomForestClassifier\n",
    "RFC = RandomForestClassifier()\n",
    "RFC.fit(X_train, y_train)\n",
    "y_preds = RFC.predict(X_test)\n",
    "print(classification_report(y_test, y_preds))"
   ]
  },
  {
   "cell_type": "code",
   "execution_count": 33,
   "metadata": {},
   "outputs": [
    {
     "name": "stdout",
     "output_type": "stream",
     "text": [
      "                  precision    recall  f1-score   support\n",
      "\n",
      "Alta popularidad       0.00      0.00      0.00     10325\n",
      "Baja popularidad       0.95      1.00      0.98    212214\n",
      "\n",
      "        accuracy                           0.95    222539\n",
      "       macro avg       0.48      0.50      0.49    222539\n",
      "    weighted avg       0.91      0.95      0.93    222539\n",
      "\n"
     ]
    }
   ],
   "source": [
    "from sklearn.ensemble import GradientBoostingClassifier\n",
    "clf = GradientBoostingClassifier(random_state=357, validation_fraction=0.1,n_iter_no_change=5, tol=0.01)\n",
    "clf.fit(X_train, y_train)\n",
    "# Make predictions\n",
    "y_pred = clf.predict(X_test) #comentario prueba\n",
    "print(classification_report(y_test, y_pred, zero_division=0))"
   ]
  }
 ],
 "metadata": {
  "kernelspec": {
   "display_name": "Python 3",
   "language": "python",
   "name": "python3"
  },
  "language_info": {
   "codemirror_mode": {
    "name": "ipython",
    "version": 3
   },
   "file_extension": ".py",
   "mimetype": "text/x-python",
   "name": "python",
   "nbconvert_exporter": "python",
   "pygments_lexer": "ipython3",
   "version": "3.11.9"
  }
 },
 "nbformat": 4,
 "nbformat_minor": 2
}
